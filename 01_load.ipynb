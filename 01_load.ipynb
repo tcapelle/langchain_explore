{
 "cells": [
  {
   "cell_type": "markdown",
   "id": "e2eb4795-bc68-403f-bf63-896adb5cbef7",
   "metadata": {},
   "source": [
    "# Comparador de Constitucion Chile - España"
   ]
  },
  {
   "cell_type": "markdown",
   "id": "9faefe96-c4ab-48b6-a597-f2a9937655d6",
   "metadata": {},
   "source": [
    "Usaremos LangChain para comparar la constitución actual chilena (del 80') con la española."
   ]
  },
  {
   "cell_type": "code",
   "execution_count": 1,
   "id": "cd51fed9-a887-4078-826e-635645202bfe",
   "metadata": {
    "tags": []
   },
   "outputs": [],
   "source": [
    "from functools import partial\n",
    "\n",
    "from langchain.text_splitter import CharacterTextSplitter\n",
    "from langchain.chat_models import ChatOpenAI\n",
    "from langchain.embeddings import OpenAIEmbeddings\n",
    "from langchain.chains import ConversationalRetrievalChain\n",
    "# from langchain.vectorstores import Chroma\n",
    "from langchain.vectorstores import FAISS\n",
    "from langchain.document_loaders import DirectoryLoader\n",
    "from langchain.document_loaders import UnstructuredPDFLoader"
   ]
  },
  {
   "cell_type": "markdown",
   "id": "3380dbb6-1890-4ce7-903a-7314f6609453",
   "metadata": {
    "tags": []
   },
   "source": [
    "## Setup"
   ]
  },
  {
   "cell_type": "markdown",
   "id": "8a0afcfe-0847-46ea-a4d0-d8c817874015",
   "metadata": {
    "tags": []
   },
   "source": [
    "Cargamos los documentos en PDF directamente"
   ]
  },
  {
   "cell_type": "code",
   "execution_count": 2,
   "id": "07164ff6-770b-4907-a660-8327a0b687e3",
   "metadata": {
    "tags": []
   },
   "outputs": [],
   "source": [
    "dl = DirectoryLoader(path=\"./data\", \n",
    "                     glob=\"Constitucion*\")"
   ]
  },
  {
   "cell_type": "code",
   "execution_count": 3,
   "id": "fd8f2cd5-b6ba-4df7-84d2-a66cd10a5722",
   "metadata": {
    "tags": []
   },
   "outputs": [
    {
     "name": "stderr",
     "output_type": "stream",
     "text": [
      "detectron2 is not installed. Cannot use the hi_res partitioning strategy. Falling back to partitioning with the fast strategy.\n",
      "detectron2 is not installed. Cannot use the hi_res partitioning strategy. Falling back to partitioning with the fast strategy.\n"
     ]
    }
   ],
   "source": [
    "docs = dl.load()"
   ]
  },
  {
   "cell_type": "markdown",
   "id": "012ebb2a-5aa2-4bd0-bb8b-7838b88c3611",
   "metadata": {},
   "source": [
    "Chile"
   ]
  },
  {
   "cell_type": "code",
   "execution_count": 4,
   "id": "6c4cb9c4-b5a5-4ae6-ace1-d5f635ea03ee",
   "metadata": {
    "tags": []
   },
   "outputs": [
    {
     "data": {
      "text/plain": [
       "'CONSTITUCIÓN POLÍTICA DE LA REPÚBLICA\\n\\nTexto actualizado a octubre  de 2010\\n\\n2\\n\\n3\\n\\nCONSTITUCIÓN POLÍTICA DE LA REPÚBLICA DE CHILE\\n\\nINDICE\\n\\nCAPÍTULOS\\n\\nCAPITULO I  BASES DE LA INSTITUCIONALIDAD\\n\\nCAPITULO II  NACIONALIDAD Y CIUDADANIA\\n\\nCAPITULO III  DE LOS DERECHOS Y DEBERES\\n\\nCONSTITUCIONALES\\n\\nCAPITULO IV  GOBIERNO\\n\\nPresidente de la República\\n\\nMinistros de Estado\\n\\nArts.   1 al 9\\n\\nArts.  10 al 18\\n\\nArt'"
      ]
     },
     "execution_count": 4,
     "metadata": {},
     "output_type": "execute_result"
    }
   ],
   "source": [
    "docs[0].page_content[:400]"
   ]
  },
  {
   "cell_type": "markdown",
   "id": "81aef527-7c6d-426a-a79e-53fa40375006",
   "metadata": {},
   "source": [
    "España"
   ]
  },
  {
   "cell_type": "code",
   "execution_count": 5,
   "id": "f49f30e3-a428-4937-be63-a2f3bc4e10f9",
   "metadata": {
    "tags": []
   },
   "outputs": [
    {
     "data": {
      "text/plain": [
       "'CONSTITUCIÓN\\n\\nESPAÑOLA\\n\\nAprobada por Las Cortes en sesiones plenarias del\\n\\nCongreso de los Diputados y del Senado celebradas\\n\\nel 31 de octubre de 1978\\n\\nRatificada por el pueblo español en referéndum de\\n\\n6 de diciembre de 1978\\n\\nSancionada por S. M. el Rey ante Las Cortes\\n\\nel 27 de diciembre de 1978\\n\\n© Agencia Estatal Boletín Oficial del Estado\\n\\nNIPO: 007-14-093-3\\n\\nCatálogo de Publicaciones de la Ad'"
      ]
     },
     "execution_count": 5,
     "metadata": {},
     "output_type": "execute_result"
    }
   ],
   "source": [
    "docs[1].page_content[:400]"
   ]
  },
  {
   "cell_type": "markdown",
   "id": "157838f7-e7d8-4b8b-beda-4127473a1bfe",
   "metadata": {},
   "source": [
    "Hacemos split en pedazos para mandarlo al embedding..."
   ]
  },
  {
   "cell_type": "code",
   "execution_count": 6,
   "id": "1b357a02-a3d4-4e23-871f-6168e84452ef",
   "metadata": {
    "tags": []
   },
   "outputs": [],
   "source": [
    "text_splitter = CharacterTextSplitter(chunk_size=1024, \n",
    "                                      chunk_overlap=200)\n",
    "splitted_docs = text_splitter.split_documents(docs)"
   ]
  },
  {
   "cell_type": "markdown",
   "id": "5507d056-593e-4468-b6a0-94c64667e6ed",
   "metadata": {},
   "source": [
    "let's embed using OpenAI Ada02"
   ]
  },
  {
   "cell_type": "code",
   "execution_count": 7,
   "id": "646e264a-3dde-4e3f-a116-69eb4567f85e",
   "metadata": {
    "tags": []
   },
   "outputs": [],
   "source": [
    "embeddings = OpenAIEmbeddings(chunk_size=1024)"
   ]
  },
  {
   "cell_type": "code",
   "execution_count": 8,
   "id": "3ca7dc00-9f89-49e5-ab68-77b8b7d80954",
   "metadata": {
    "tags": []
   },
   "outputs": [],
   "source": [
    "# db = Chroma.from_documents(texts, embeddings)\n",
    "db = FAISS.from_documents(splitted_docs, embeddings)"
   ]
  },
  {
   "cell_type": "markdown",
   "id": "acec6d31-42d9-4b19-9c28-2db9e5762202",
   "metadata": {},
   "source": [
    "we can save a load back..."
   ]
  },
  {
   "cell_type": "code",
   "execution_count": 9,
   "id": "5cd3b412-f684-4951-a8e3-8e8c0f7bbbd9",
   "metadata": {
    "tags": []
   },
   "outputs": [],
   "source": [
    "db.save_local(\"./data/constituciones.faiss\")"
   ]
  },
  {
   "cell_type": "code",
   "execution_count": 10,
   "id": "cc2e16d0-b0ce-4a7d-819e-a0a6311baeef",
   "metadata": {
    "tags": []
   },
   "outputs": [],
   "source": [
    "# db = FAISS.load_local(\"./data/constituciones.faiss\", embeddings)"
   ]
  },
  {
   "cell_type": "markdown",
   "id": "4835142b-6ef9-4a8a-bde2-8e26b43092da",
   "metadata": {},
   "source": [
    "We store everything in the vector database `db`"
   ]
  },
  {
   "cell_type": "code",
   "execution_count": 11,
   "id": "818ab5b1-b6e5-496f-9d8c-ed47c8d11f29",
   "metadata": {
    "tags": []
   },
   "outputs": [],
   "source": [
    "query = \"Cuantos años dura el mandato del presidente\""
   ]
  },
  {
   "cell_type": "code",
   "execution_count": 12,
   "id": "94ae5538-89d5-478e-9e11-fd6eae34b7ea",
   "metadata": {
    "tags": []
   },
   "outputs": [],
   "source": [
    "retriever = db.as_retriever(search_kwargs=dict(k=5))"
   ]
  },
  {
   "cell_type": "code",
   "execution_count": 13,
   "id": "5650cf5c-67ff-45a8-88d3-b4167ef1b426",
   "metadata": {
    "tags": []
   },
   "outputs": [
    {
     "data": {
      "text/plain": [
       "[Document(page_content='el décimo día después de su proclamación.\\n\\nEl Presidente elegido conforme a alguno de los incisos precedentes durará en el\\n\\ncargo hasta completar el período que restaba a quien se reemplace y no podrá postular\\n\\ncomo candidato a la elección presidencial siguiente.86\\n\\n83 Frase intercalada por el artículo único, letra c) de la ley de Reforma Constitucional N° 20.354.\\n\\n84 Inciso modificado por el artículo único, Nº 12 de la ley de Reforma Constitucional Nº 18.825.\\n\\n85 Inciso modificado por el artículo único, letra d),  de la ley de Reforma Constitucional N° 20.354.\\n\\n86  Artículo  sustituido  por  el  artículo  1º,  Nº  16  de  la  ley  de  Reforma  Constitucional  Nº  20.050.  Anteriormente  había  sido\\n\\nmodificado por el artículo único, Nº 13 de la ley de Reforma Constitucional Nº 18.825.\\n\\n27\\n\\nArtículo  30.-  El  Presidente  cesará  en  su  cargo  el  mismo  día  en  que  se\\n\\ncomplete su período y le sucederá el recientemente elegido.', metadata={'source': 'data/Constitucion_cl.pdf'}),\n",
       " Document(page_content='orden  público  en  el  interior  y  la  seguridad  externa  de  la  República,  de  acuerdo  con  la\\n\\nConstitución y las leyes.\\n\\nEl 21 de mayo de cada año, el Presidente de la República dará cuenta al país del\\n\\nestado administrativo y político de la Nación ante el Congreso Pleno.71\\n\\nArtículo  25.  Para  ser  elegido  Presidente  de  la  República  se  requiere  tener  la\\n\\nnacionalidad  chilena  de  acuerdo  a  lo  dispuesto  en  los  números  1º  ó  2º  del  artículo  10;\\n\\ntener  cumplidos  treinta  y  cinco  años  de  edad  y  poseer  las  demás  calidades  necesarias\\n\\npara ser ciudadano con derecho a sufragio.72\\n\\nEl  Presidente  de  la  República  durará  en  el  ejercicio  de  sus  funciones  por  el\\n\\ntérmino de cuatro años y no podrá ser reelegido para el período siguiente.73\\n\\nEl  Presidente  de  la  República  no  podrá  salir  del  territorio  nacional  por  más  de\\n\\ntreinta días ni en los últimos noventa días de su período, sin acuerdo del Senado.', metadata={'source': 'data/Constitucion_cl.pdf'}),\n",
       " Document(page_content='24, inciso 3°.\\n\\ndignidad de ex Presidente de la República\\n\\n30.\\n\\ndimisión del, declaración del Senado respecto  a la\\n\\n53, N° 7.\\n\\nduración del mandato del\\n\\nelección de\\n\\n25, inciso 2°.\\n\\n26 y 27.\\n\\nfacultades durante los estados de excepción constitucional del\\n\\n43.\\n\\njuramento o promesa del\\n\\nimpedimento temporal del\\n\\n27, inciso final.\\n\\n29, inciso 1°.\\n\\ninhabilidad del, declaración del Senado respecto  a la\\n\\n53, N° 7.\\n\\niniciativa en reforma constitucional del\\n\\n127, inciso 1°.\\n\\niniciativa exclusiva en materias de ley del\\n\\nincisos\\n\\n63,  N°  14  y  65,\\n\\n3° y  4°.\\n\\nmandato del\\n\\n25, inciso 2° y 30.\\n\\nobservaciones o vetos del\\n\\n70 y 117, incisos 4°, 5° y 7°.\\n\\npermiso constitucional para salir del país el\\n\\n32, N° 8.\\n\\npresidencia del Consejo de Seguridad Nacional por el\\n\\n95, inciso 1°.\\n\\nprohibición de reelección para el período siguiente de\\n\\n25, inciso 2° y 29, inciso 6°.\\n\\nrenuncia del (Ver – dimisión del).\\n\\nrequisitos para ser elegido como\\n\\nresidencia del\\n\\nsubrogación del\\n\\nsucesión del\\n\\n25, inciso 1°.\\n\\n60, N° 17.', metadata={'source': 'data/Constitucion_cl.pdf'}),\n",
       " Document(page_content='en conformidad a las reglas de los incisos siguientes.\\n\\nSi la vacancia se produjere faltando menos de dos años para la próxima elección\\n\\npresidencial, el Presidente será elegido por el Congreso Pleno por la mayoría absoluta de\\n\\nlos senadores y diputados en ejercicio. La elección por el Congreso será hecha dentro de\\n\\nlos diez días siguientes a la fecha de la vacancia y el elegido asumirá su cargo dentro de\\n\\nlos treinta días siguientes.\\n\\nSi  la  vacancia  se  produjere  faltando  dos  años  o  más  para  la  próxima  elección\\n\\npresidencial,  el  Vicepresidente,  dentro  de  los  diez  primeros  días  de  su  mandato,\\n\\nconvocará a los ciudadanos a elección presidencial para el sexagésimo día después de la\\n\\nconvocatoria, si ese día correspondiere a un domingo. Si así no fuere, ella se realizará el\\n\\ndomingo inmediatamente siguiente. 85 El Presidente que resulte elegido asumirá su cargo\\n\\nel décimo día después de su proclamación.\\n\\nEl Presidente elegido conforme a alguno de los incisos precedentes durará en el', metadata={'source': 'data/Constitucion_cl.pdf'}),\n",
       " Document(page_content='segundo, el Presidente de la República convocará a una nueva elección dentro del plazo\\n\\nde treinta días, contado desde la fecha del deceso. La elección se celebrará el domingo\\n\\nmás cercano al nonagésimo día posterior a la convocatoria.77\\n\\nSi  expirase  el  mandato  del  Presidente  de  la  República  en  ejercicio  antes  de  la\\n\\nfecha  de  asunción  del  Presidente  que  se  elija  en  conformidad  al  inciso  anterior,  se\\n\\naplicará, en lo pertinente, la norma contenida en el inciso primero del artículo 28.78\\n\\nArtículo  27. El proceso de calificación de la elección presidencial deberá quedar\\n\\nconcluido  dentro  de  los  quince  días  siguientes  a  la  primera  o  segunda  votación,  según\\n\\ncorresponda.79\\n\\nEl Tribunal Calificador de Elecciones comunicará de inmediato al Presidente del\\n\\nSenado la proclamación de Presidente electo que haya efectuado.\\n\\nEl Congreso Pleno, reunido en sesión pública el día en que deba cesar en su cargo', metadata={'source': 'data/Constitucion_cl.pdf'})]"
      ]
     },
     "execution_count": 13,
     "metadata": {},
     "output_type": "execute_result"
    }
   ],
   "source": [
    "db.similarity_search(query, k=5)"
   ]
  },
  {
   "cell_type": "markdown",
   "id": "d37560a6-bd6c-4af0-a63d-28489d0a769d",
   "metadata": {},
   "source": [
    "Creamos un chat para recuperar info de la base de datos..."
   ]
  },
  {
   "cell_type": "code",
   "execution_count": 15,
   "id": "edb851d9-1a1c-4141-a615-2d39970a7003",
   "metadata": {
    "tags": []
   },
   "outputs": [],
   "source": [
    "from wandb.integration.langchain import WandbTracer"
   ]
  },
  {
   "cell_type": "code",
   "execution_count": 16,
   "id": "7c148b06-a16a-45ca-9a53-6e579b19b940",
   "metadata": {
    "tags": []
   },
   "outputs": [
    {
     "name": "stderr",
     "output_type": "stream",
     "text": [
      "\u001b[34m\u001b[1mwandb\u001b[0m: Streaming LangChain activity to W&B at https://wandb.ai/capecape/langchain_constituciones/runs/yuataiso\n",
      "\u001b[34m\u001b[1mwandb\u001b[0m: `WandbTracer` is currently in beta.\n",
      "\u001b[34m\u001b[1mwandb\u001b[0m: Please report any issues to https://github.com/wandb/wandb/issues with the tag `langchain`.\n"
     ]
    }
   ],
   "source": [
    "WandbTracer.init({\"project\": \"langchain_constituciones\"})"
   ]
  },
  {
   "cell_type": "code",
   "execution_count": 17,
   "id": "45cc779b-ae7e-4532-9cd1-8301e455e29c",
   "metadata": {
    "tags": []
   },
   "outputs": [],
   "source": [
    "qa = ConversationalRetrievalChain.from_llm(ChatOpenAI(), \n",
    "                                           retriever, \n",
    "                                           return_source_documents=True)"
   ]
  },
  {
   "cell_type": "code",
   "execution_count": 18,
   "id": "f7ffba1c-0ad8-42f8-b303-d0b92ea72dda",
   "metadata": {
    "tags": []
   },
   "outputs": [
    {
     "name": "stderr",
     "output_type": "stream",
     "text": [
      "\u001b[34m\u001b[1mwandb\u001b[0m: \u001b[33mWARNING\u001b[0m Skipping model saving - unable to safely convert LangChain Model to dictionary due to: \n"
     ]
    }
   ],
   "source": [
    "chat_history = []\n",
    "result = qa({\"question\": query, \"chat_history\": chat_history})"
   ]
  },
  {
   "cell_type": "code",
   "execution_count": 19,
   "id": "5933aa0b-943f-4584-9569-2a1c51983291",
   "metadata": {
    "tags": []
   },
   "outputs": [
    {
     "data": {
      "text/plain": [
       "'El Presidente de la República durará en el ejercicio de sus funciones por el término de cuatro años y no podrá ser reelegido para el período siguiente, según lo establece el Artículo 25 de la Constitución chilena.'"
      ]
     },
     "execution_count": 19,
     "metadata": {},
     "output_type": "execute_result"
    }
   ],
   "source": [
    "result['answer']"
   ]
  },
  {
   "cell_type": "code",
   "execution_count": 20,
   "id": "a8e67d39-82f8-4af3-b8e0-57477459aee8",
   "metadata": {
    "tags": []
   },
   "outputs": [
    {
     "data": {
      "text/plain": [
       "5"
      ]
     },
     "execution_count": 20,
     "metadata": {},
     "output_type": "execute_result"
    }
   ],
   "source": [
    "len(result[\"source_documents\"])"
   ]
  },
  {
   "cell_type": "code",
   "execution_count": 21,
   "id": "b86f0e14-5ee1-4f96-ae07-f94ccc95582a",
   "metadata": {
    "tags": []
   },
   "outputs": [
    {
     "data": {
      "text/plain": [
       "[Document(page_content='el décimo día después de su proclamación.\\n\\nEl Presidente elegido conforme a alguno de los incisos precedentes durará en el\\n\\ncargo hasta completar el período que restaba a quien se reemplace y no podrá postular\\n\\ncomo candidato a la elección presidencial siguiente.86\\n\\n83 Frase intercalada por el artículo único, letra c) de la ley de Reforma Constitucional N° 20.354.\\n\\n84 Inciso modificado por el artículo único, Nº 12 de la ley de Reforma Constitucional Nº 18.825.\\n\\n85 Inciso modificado por el artículo único, letra d),  de la ley de Reforma Constitucional N° 20.354.\\n\\n86  Artículo  sustituido  por  el  artículo  1º,  Nº  16  de  la  ley  de  Reforma  Constitucional  Nº  20.050.  Anteriormente  había  sido\\n\\nmodificado por el artículo único, Nº 13 de la ley de Reforma Constitucional Nº 18.825.\\n\\n27\\n\\nArtículo  30.-  El  Presidente  cesará  en  su  cargo  el  mismo  día  en  que  se\\n\\ncomplete su período y le sucederá el recientemente elegido.', metadata={'source': 'data/Constitucion_cl.pdf'}),\n",
       " Document(page_content='orden  público  en  el  interior  y  la  seguridad  externa  de  la  República,  de  acuerdo  con  la\\n\\nConstitución y las leyes.\\n\\nEl 21 de mayo de cada año, el Presidente de la República dará cuenta al país del\\n\\nestado administrativo y político de la Nación ante el Congreso Pleno.71\\n\\nArtículo  25.  Para  ser  elegido  Presidente  de  la  República  se  requiere  tener  la\\n\\nnacionalidad  chilena  de  acuerdo  a  lo  dispuesto  en  los  números  1º  ó  2º  del  artículo  10;\\n\\ntener  cumplidos  treinta  y  cinco  años  de  edad  y  poseer  las  demás  calidades  necesarias\\n\\npara ser ciudadano con derecho a sufragio.72\\n\\nEl  Presidente  de  la  República  durará  en  el  ejercicio  de  sus  funciones  por  el\\n\\ntérmino de cuatro años y no podrá ser reelegido para el período siguiente.73\\n\\nEl  Presidente  de  la  República  no  podrá  salir  del  territorio  nacional  por  más  de\\n\\ntreinta días ni en los últimos noventa días de su período, sin acuerdo del Senado.', metadata={'source': 'data/Constitucion_cl.pdf'}),\n",
       " Document(page_content='24, inciso 3°.\\n\\ndignidad de ex Presidente de la República\\n\\n30.\\n\\ndimisión del, declaración del Senado respecto  a la\\n\\n53, N° 7.\\n\\nduración del mandato del\\n\\nelección de\\n\\n25, inciso 2°.\\n\\n26 y 27.\\n\\nfacultades durante los estados de excepción constitucional del\\n\\n43.\\n\\njuramento o promesa del\\n\\nimpedimento temporal del\\n\\n27, inciso final.\\n\\n29, inciso 1°.\\n\\ninhabilidad del, declaración del Senado respecto  a la\\n\\n53, N° 7.\\n\\niniciativa en reforma constitucional del\\n\\n127, inciso 1°.\\n\\niniciativa exclusiva en materias de ley del\\n\\nincisos\\n\\n63,  N°  14  y  65,\\n\\n3° y  4°.\\n\\nmandato del\\n\\n25, inciso 2° y 30.\\n\\nobservaciones o vetos del\\n\\n70 y 117, incisos 4°, 5° y 7°.\\n\\npermiso constitucional para salir del país el\\n\\n32, N° 8.\\n\\npresidencia del Consejo de Seguridad Nacional por el\\n\\n95, inciso 1°.\\n\\nprohibición de reelección para el período siguiente de\\n\\n25, inciso 2° y 29, inciso 6°.\\n\\nrenuncia del (Ver – dimisión del).\\n\\nrequisitos para ser elegido como\\n\\nresidencia del\\n\\nsubrogación del\\n\\nsucesión del\\n\\n25, inciso 1°.\\n\\n60, N° 17.', metadata={'source': 'data/Constitucion_cl.pdf'}),\n",
       " Document(page_content='en conformidad a las reglas de los incisos siguientes.\\n\\nSi la vacancia se produjere faltando menos de dos años para la próxima elección\\n\\npresidencial, el Presidente será elegido por el Congreso Pleno por la mayoría absoluta de\\n\\nlos senadores y diputados en ejercicio. La elección por el Congreso será hecha dentro de\\n\\nlos diez días siguientes a la fecha de la vacancia y el elegido asumirá su cargo dentro de\\n\\nlos treinta días siguientes.\\n\\nSi  la  vacancia  se  produjere  faltando  dos  años  o  más  para  la  próxima  elección\\n\\npresidencial,  el  Vicepresidente,  dentro  de  los  diez  primeros  días  de  su  mandato,\\n\\nconvocará a los ciudadanos a elección presidencial para el sexagésimo día después de la\\n\\nconvocatoria, si ese día correspondiere a un domingo. Si así no fuere, ella se realizará el\\n\\ndomingo inmediatamente siguiente. 85 El Presidente que resulte elegido asumirá su cargo\\n\\nel décimo día después de su proclamación.\\n\\nEl Presidente elegido conforme a alguno de los incisos precedentes durará en el', metadata={'source': 'data/Constitucion_cl.pdf'}),\n",
       " Document(page_content='segundo, el Presidente de la República convocará a una nueva elección dentro del plazo\\n\\nde treinta días, contado desde la fecha del deceso. La elección se celebrará el domingo\\n\\nmás cercano al nonagésimo día posterior a la convocatoria.77\\n\\nSi  expirase  el  mandato  del  Presidente  de  la  República  en  ejercicio  antes  de  la\\n\\nfecha  de  asunción  del  Presidente  que  se  elija  en  conformidad  al  inciso  anterior,  se\\n\\naplicará, en lo pertinente, la norma contenida en el inciso primero del artículo 28.78\\n\\nArtículo  27. El proceso de calificación de la elección presidencial deberá quedar\\n\\nconcluido  dentro  de  los  quince  días  siguientes  a  la  primera  o  segunda  votación,  según\\n\\ncorresponda.79\\n\\nEl Tribunal Calificador de Elecciones comunicará de inmediato al Presidente del\\n\\nSenado la proclamación de Presidente electo que haya efectuado.\\n\\nEl Congreso Pleno, reunido en sesión pública el día en que deba cesar en su cargo', metadata={'source': 'data/Constitucion_cl.pdf'})]"
      ]
     },
     "execution_count": 21,
     "metadata": {},
     "output_type": "execute_result"
    }
   ],
   "source": [
    "result[\"source_documents\"]"
   ]
  },
  {
   "cell_type": "markdown",
   "id": "cb6a49a8-a3a9-45a8-874c-1b78c183723a",
   "metadata": {},
   "source": [
    "## Comparemos las constituciones..."
   ]
  },
  {
   "cell_type": "code",
   "execution_count": 22,
   "id": "ceb199c6-3fb2-43b4-92ae-37481112e001",
   "metadata": {
    "tags": []
   },
   "outputs": [
    {
     "name": "stderr",
     "output_type": "stream",
     "text": [
      "\u001b[34m\u001b[1mwandb\u001b[0m: \u001b[33mWARNING\u001b[0m Skipping model saving - unable to safely convert LangChain Model to dictionary due to: \n"
     ]
    }
   ],
   "source": [
    "chat_history = []\n",
    "query = \"Cual pais tiene un sistema parlamentario?\"\n",
    "result = qa({\"question\": query, \"chat_history\": chat_history})"
   ]
  },
  {
   "cell_type": "code",
   "execution_count": 23,
   "id": "be8392b8-1f80-464f-81b8-f7af7741fd45",
   "metadata": {
    "tags": []
   },
   "outputs": [
    {
     "data": {
      "text/plain": [
       "'Hay muchos países en todo el mundo que tienen un sistema parlamentario, en el que el poder legislativo es ejercido por un parlamento o asamblea. Algunos ejemplos de países con un sistema parlamentario incluyen el Reino Unido, Canadá, Australia, India, Japón, Italia, Noruega, Suecia, Dinamarca, entre otros.'"
      ]
     },
     "execution_count": 23,
     "metadata": {},
     "output_type": "execute_result"
    }
   ],
   "source": [
    "result['answer']"
   ]
  },
  {
   "cell_type": "code",
   "execution_count": 24,
   "id": "7ac6f905-c136-4e37-ba85-49c08e8eb25e",
   "metadata": {
    "tags": []
   },
   "outputs": [
    {
     "data": {
      "text/plain": [
       "Document(page_content='los demás en proporción a la población.\\n\\n3.    La elección se verificará en cada circunscripción atendiendo a\\n\\ncriterios de representación proporcional.\\n\\n4.    El Congreso es elegido por cuatro años. El mandato de los\\n\\nDiputados termina cuatro años después de su elección o el día de la\\n\\ndisolución de la Cámara.\\n\\n5.    Son electores y elegibles todos los españoles que estén en\\n\\npleno uso de sus derechos políticos.\\n\\nLa ley reconocerá y el Estado facilitará el ejercicio del derecho de\\n\\nsufragio a los españoles que se encuentren fuera del territorio de\\n\\nEspaña.\\n\\nEl mandato\\n\\nparlamentario\\n\\nEl Congreso de\\n\\nlos Diputados\\n\\nSistema\\n\\nelectoral\\n\\nCuatro años de\\n\\nlegislatura\\n\\n23\\n\\n6.    Las elecciones tendrán lugar entre los treinta días y sesenta\\n\\ndías desde la terminación del mandato. El Congreso electo deberá\\n\\nser convocado dentro de los veinticinco días siguientes a la celebra-\\n\\nción de las elecciones.\\n\\nArtículo 69.\\n\\n1.    El Senado es la Cámara de representación territorial.', metadata={'source': 'data/Constitucion_es.pdf'})"
      ]
     },
     "execution_count": 24,
     "metadata": {},
     "output_type": "execute_result"
    }
   ],
   "source": [
    "result['source_documents'][0]"
   ]
  },
  {
   "cell_type": "code",
   "execution_count": 25,
   "id": "0d863c85-d2fb-4dd4-91d1-f17955f8fc0d",
   "metadata": {
    "tags": []
   },
   "outputs": [
    {
     "name": "stderr",
     "output_type": "stream",
     "text": [
      "\u001b[34m\u001b[1mwandb\u001b[0m: \u001b[33mWARNING\u001b[0m Skipping model saving - unable to safely convert LangChain Model to dictionary due to: \n"
     ]
    }
   ],
   "source": [
    "chat_history = [(query, result[\"answer\"])]\n",
    "query = \"Y chile?\"\n",
    "result = qa({\"question\": query, \"chat_history\": chat_history})"
   ]
  },
  {
   "cell_type": "code",
   "execution_count": 26,
   "id": "62c13209-8304-4c4a-ba3f-1f080c92bd4d",
   "metadata": {
    "tags": []
   },
   "outputs": [
    {
     "data": {
      "text/plain": [
       "'Sí, Chile tiene un sistema parlamentario. La Constitución Política de la República establece la existencia del Congreso Nacional, que se compone de la Cámara de Diputados y del Senado, y donde se ejerce el poder legislativo.'"
      ]
     },
     "execution_count": 26,
     "metadata": {},
     "output_type": "execute_result"
    }
   ],
   "source": [
    "result['answer']"
   ]
  },
  {
   "cell_type": "code",
   "execution_count": 27,
   "id": "3eea2543-22d8-4341-9fab-08afdf5cce76",
   "metadata": {
    "tags": []
   },
   "outputs": [
    {
     "data": {
      "text/plain": [
       "Document(page_content='desconcentrada en su caso, de conformidad a la ley.\\n\\nLos  órganos  del  Estado  promoverán  el  fortalecimiento  de  la  regionalización  del\\n\\npaís  y  el  desarrollo  equitativo  y  solidario  entre  las  regiones,  provincias  y  comunas  del\\n\\nterritorio nacional.3\\n\\nArtículo 4° Chile es una república democrática.\\n\\nArtículo  5°  La  soberanía  reside  esencialmente  en  la  Nación.  Su  ejercicio  se\\n\\nrealiza por el pueblo a través del plebiscito y de elecciones periódicas y, también, por las\\n\\nautoridades que esta Constitución establece. Ningún sector del pueblo ni individuo alguno\\n\\npuede atribuirse su ejercicio.\\n\\nEl  ejercicio  de  la  soberanía  reconoce  como  limitación  el  respeto  a  los  derechos\\n\\nesenciales  que  emanan  de  la  naturaleza  humana.  Es  deber  de  los  órganos  del  Estado\\n\\nrespetar y promover tales derechos, garantizados por esta Constitución, así como por los\\n\\ntratados internacionales ratificados por Chile y que se encuentren vigentes.4', metadata={'source': 'data/Constitucion_cl.pdf'})"
      ]
     },
     "execution_count": 27,
     "metadata": {},
     "output_type": "execute_result"
    }
   ],
   "source": [
    "result['source_documents'][0]"
   ]
  },
  {
   "cell_type": "code",
   "execution_count": 28,
   "id": "0cc5ec4e-ed55-4b0b-bfbb-d82a49e42348",
   "metadata": {
    "tags": []
   },
   "outputs": [
    {
     "name": "stderr",
     "output_type": "stream",
     "text": [
      "\u001b[34m\u001b[1mwandb\u001b[0m: \u001b[33mWARNING\u001b[0m Skipping model saving - unable to safely convert LangChain Model to dictionary due to: \n"
     ]
    }
   ],
   "source": [
    "chat_history = [(query, result[\"answer\"])]\n",
    "query = \"Puedes explicarme la diferencia entre los dos?\"\n",
    "result = qa({\"question\": query, \"chat_history\": chat_history})"
   ]
  },
  {
   "cell_type": "code",
   "execution_count": 29,
   "id": "49794064-b5be-4059-8322-c561d79d9aee",
   "metadata": {
    "tags": []
   },
   "outputs": [
    {
     "data": {
      "text/plain": [
       "'Este texto no se refiere al sistema parlamentario de Chile, sino al sistema parlamentario de España. Por lo tanto, no puedo responder a su pregunta sobre el sistema parlamentario de Chile con este texto. Lo siento.'"
      ]
     },
     "execution_count": 29,
     "metadata": {},
     "output_type": "execute_result"
    }
   ],
   "source": [
    "result['answer']"
   ]
  },
  {
   "cell_type": "code",
   "execution_count": 30,
   "id": "22d9d442-12a9-4a40-b815-5556ba3f2f4c",
   "metadata": {
    "tags": []
   },
   "outputs": [
    {
     "name": "stderr",
     "output_type": "stream",
     "text": [
      "\u001b[34m\u001b[1mwandb\u001b[0m: \u001b[33mWARNING\u001b[0m Skipping model saving - unable to safely convert LangChain Model to dictionary due to: \n"
     ]
    }
   ],
   "source": [
    "chat_history = [(query, result[\"answer\"])]\n",
    "query = \"En españa el rey tiene algun poder?\"\n",
    "result = qa({\"question\": query, \"chat_history\": chat_history})"
   ]
  },
  {
   "cell_type": "code",
   "execution_count": 31,
   "id": "7367aeb9-2b38-4261-b846-31f502ee165f",
   "metadata": {
    "tags": []
   },
   "outputs": [
    {
     "data": {
      "text/plain": [
       "'Según la Constitución española, el Rey de España tiene una serie de poderes y funciones, incluyendo la capacidad de sancionar y promulgar leyes, nombrar y destituir a los miembros del gobierno, ser informado de los asuntos del Estado, presidir el Consejo de Ministros, ejercer el mando supremo de las Fuerzas Armadas, y ejercer el derecho de gracia. Además, el Rey también cumple una función representativa y ceremonial, es el símbolo de la unidad y permanencia del Estado español, y ejerce la más alta representación del Estado español en las relaciones internacionales.'"
      ]
     },
     "execution_count": 31,
     "metadata": {},
     "output_type": "execute_result"
    }
   ],
   "source": [
    "result['answer']"
   ]
  },
  {
   "cell_type": "code",
   "execution_count": 32,
   "id": "54f0852b-aa83-4b7d-8681-37739a171b7b",
   "metadata": {
    "tags": []
   },
   "outputs": [
    {
     "data": {
      "text/plain": [
       "Document(page_content='pueblo\\n\\nemanan los poderes del Estado.\\n\\n3.    La forma política del Estado español es la Monarquía parla-\\n\\nmentaria.\\n\\nArtículo 2.\\n\\nLa Constitución se fundamenta en la indisoluble unidad de la\\n\\nNación española, patria común e indivisible de todos los españoles, y\\n\\nreconoce y garantiza el derecho a la autonomía de las nacionalidades\\n\\ny regiones que la integran y la solidaridad entre todas ellas.\\n\\nUnidad de la\\n\\nNación y\\n\\nderecho a la\\n\\nautonomía\\n\\nArtículo 3.\\n\\n1.    El castellano es la lengua española oficial del Estado. Todos los\\n\\nespañoles tienen el deber de conocerla y el derecho a usarla.\\n\\n2.    Las demás lenguas españolas serán también oficiales en las\\n\\nrespectivas Comunidades Autónomas de acuerdo con sus Estatutos.\\n\\n3.    La riqueza de las distintas modalidades lingüísticas de España\\n\\nes un patrimonio cultural que será objeto de especial respeto y pro-\\n\\ntección.\\n\\nEl castellano y\\n\\nlas demás\\n\\nlenguas\\n\\nespañolas\\n\\nArtículo 4.\\n\\n1.    La bandera de España está formada por tres franjas horizonta-', metadata={'source': 'data/Constitucion_es.pdf'})"
      ]
     },
     "execution_count": 32,
     "metadata": {},
     "output_type": "execute_result"
    }
   ],
   "source": [
    "result[\"source_documents\"][0]"
   ]
  },
  {
   "cell_type": "code",
   "execution_count": 33,
   "id": "350cd7ce-3d4c-42d1-a4c9-de275ef5617a",
   "metadata": {
    "tags": []
   },
   "outputs": [
    {
     "name": "stderr",
     "output_type": "stream",
     "text": [
      "\u001b[34m\u001b[1mwandb\u001b[0m: Finished uploading data to W&B at https://wandb.ai/capecape/langchain_constituciones/runs/yuataiso\n"
     ]
    }
   ],
   "source": [
    "WandbTracer.finish()"
   ]
  }
 ],
 "metadata": {
  "kernelspec": {
   "display_name": "Python 3 (ipykernel)",
   "language": "python",
   "name": "python3"
  },
  "language_info": {
   "codemirror_mode": {
    "name": "ipython",
    "version": 3
   },
   "file_extension": ".py",
   "mimetype": "text/x-python",
   "name": "python",
   "nbconvert_exporter": "python",
   "pygments_lexer": "ipython3",
   "version": "3.10.9"
  }
 },
 "nbformat": 4,
 "nbformat_minor": 5
}
