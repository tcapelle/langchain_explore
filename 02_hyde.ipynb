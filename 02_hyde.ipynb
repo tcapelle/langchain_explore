{
 "cells": [
  {
   "cell_type": "code",
   "execution_count": 2,
   "id": "4cda2b8e-cb0b-4cf6-8663-4127cce9231c",
   "metadata": {
    "tags": []
   },
   "outputs": [],
   "source": [
    "from langchain.llms import OpenAI\n",
    "from langchain.chat_models import ChatOpenAI\n",
    "from langchain.embeddings import OpenAIEmbeddings\n",
    "from langchain.chains import LLMChain, HypotheticalDocumentEmbedder, ConversationalRetrievalChain\n",
    "from langchain.prompts import PromptTemplate\n",
    "from langchain.document_loaders import UnstructuredPDFLoader\n",
    "from langchain.text_splitter import RecursiveCharacterTextSplitter\n",
    "from langchain.vectorstores import FAISS"
   ]
  },
  {
   "cell_type": "code",
   "execution_count": 3,
   "id": "f81bb755-7ab3-4674-b911-30f76d7c84ba",
   "metadata": {
    "tags": []
   },
   "outputs": [],
   "source": [
    "from wandb.integration.langchain import WandbTracer"
   ]
  },
  {
   "cell_type": "code",
   "execution_count": 5,
   "id": "83561bf7-43f2-4ee8-87eb-30856c5c5555",
   "metadata": {
    "tags": []
   },
   "outputs": [
    {
     "name": "stderr",
     "output_type": "stream",
     "text": [
      "\u001b[34m\u001b[1mwandb\u001b[0m: Streaming LangChain activity to W&B at https://wandb.ai/capecape/langchain_constituciones/runs/94qixipr\n",
      "\u001b[34m\u001b[1mwandb\u001b[0m: `WandbTracer` is currently in beta.\n",
      "\u001b[34m\u001b[1mwandb\u001b[0m: Please report any issues to https://github.com/wandb/wandb/issues with the tag `langchain`.\n"
     ]
    }
   ],
   "source": [
    "WandbTracer.init({\"project\": \"langchain_constituciones\", \"tags\":[\"hyde\"]})"
   ]
  },
  {
   "cell_type": "code",
   "execution_count": 6,
   "id": "0f3395ae-2857-48f1-954b-8af0b79a7cfe",
   "metadata": {
    "tags": []
   },
   "outputs": [],
   "source": [
    "base_embeddings = OpenAIEmbeddings()\n",
    "llm = OpenAI()"
   ]
  },
  {
   "cell_type": "markdown",
   "id": "ec150880-d614-4ede-8ec0-abe95ca55f7e",
   "metadata": {},
   "source": [
    "we may need to play with the `prompt_template` here as it's pretty basic"
   ]
  },
  {
   "cell_type": "code",
   "execution_count": 7,
   "id": "4ceb8bcf-86e4-446e-986b-3ef04c2d7bc1",
   "metadata": {
    "tags": []
   },
   "outputs": [],
   "source": [
    "prompt_template = \"\"\"\n",
    "Porfavor responde las pregunta con respecto a las constituciones de Chile y España. \n",
    "Si la informacion esta disponible, da una respuesta para cada Chile y otra para España.\n",
    "Pregunta: {question}\n",
    "Respuesta:\"\"\"\n",
    "prompt = PromptTemplate(input_variables=[\"question\"], template=prompt_template)\n",
    "llm_chain = LLMChain(llm=llm, prompt=prompt)"
   ]
  },
  {
   "cell_type": "markdown",
   "id": "93f4c017-0a62-4ae1-aa2f-7ce7aed0058c",
   "metadata": {},
   "source": [
    "Let's use some more fancy embeddings like [HyDE](https://python.langchain.com/en/latest/modules/chains/index_examples/hyde.html)"
   ]
  },
  {
   "cell_type": "code",
   "execution_count": 8,
   "id": "ce1e6768-4211-4098-a3d1-b7da621e894f",
   "metadata": {
    "tags": []
   },
   "outputs": [],
   "source": [
    "embeddings = HypotheticalDocumentEmbedder(llm_chain=llm_chain, base_embeddings=base_embeddings)"
   ]
  },
  {
   "cell_type": "markdown",
   "id": "5309308d-ef66-461d-a0b7-c72abaa97783",
   "metadata": {},
   "source": [
    "## Using HyDE"
   ]
  },
  {
   "cell_type": "code",
   "execution_count": 9,
   "id": "88c6e206-85dc-410c-81dd-1e5f9bdbf9b8",
   "metadata": {
    "tags": []
   },
   "outputs": [],
   "source": [
    "files = [\"./data/Constitucion_cl.pdf\", \"./data/Constitucion_es.pdf\"]"
   ]
  },
  {
   "cell_type": "markdown",
   "id": "ce44d70a-e339-42ad-b88b-3fcbade60615",
   "metadata": {},
   "source": [
    "Let's load documents one by one just for fun"
   ]
  },
  {
   "cell_type": "code",
   "execution_count": 10,
   "id": "6300ca63-bee3-421b-a7d8-e245ecff2abb",
   "metadata": {
    "tags": []
   },
   "outputs": [
    {
     "name": "stderr",
     "output_type": "stream",
     "text": [
      "detectron2 is not installed. Cannot use the hi_res partitioning strategy. Falling back to partitioning with the fast strategy.\n",
      "detectron2 is not installed. Cannot use the hi_res partitioning strategy. Falling back to partitioning with the fast strategy.\n"
     ]
    }
   ],
   "source": [
    "# for some reason it returns a list with 1 element!\n",
    "docs = [UnstructuredPDFLoader(f).load()[0] for f in files]"
   ]
  },
  {
   "cell_type": "code",
   "execution_count": 11,
   "id": "31c77cdf-128a-4f19-b4d5-b7e8717e5bcb",
   "metadata": {
    "tags": []
   },
   "outputs": [],
   "source": [
    "text_splitter = RecursiveCharacterTextSplitter(chunk_size=1024, chunk_overlap=200)\n",
    "splitted_docs = text_splitter.split_documents(docs)"
   ]
  },
  {
   "cell_type": "markdown",
   "id": "7925143c-584e-4d68-a7bd-1b171a19af01",
   "metadata": {},
   "source": [
    "we need to recreate the db as the old one didn't use HyDE"
   ]
  },
  {
   "cell_type": "code",
   "execution_count": 12,
   "id": "39e9b6d7-ba0c-4583-8d98-c21917416971",
   "metadata": {
    "tags": []
   },
   "outputs": [],
   "source": [
    "db = FAISS.from_documents(splitted_docs, embeddings)"
   ]
  },
  {
   "cell_type": "markdown",
   "id": "d99774f5-9ad8-4d4f-b34e-43997d5fed24",
   "metadata": {},
   "source": [
    "`k=5` means it retrieves only the top 5 documents"
   ]
  },
  {
   "cell_type": "code",
   "execution_count": 13,
   "id": "3e7e2989-4f25-4830-bdf3-6161ae3b0cc8",
   "metadata": {
    "tags": []
   },
   "outputs": [],
   "source": [
    "retriever = db.as_retriever(search_kwargs=dict(k=5))"
   ]
  },
  {
   "cell_type": "markdown",
   "id": "c982b29c-ac04-4a44-9989-59576c9a97da",
   "metadata": {},
   "source": [
    "let's test"
   ]
  },
  {
   "cell_type": "code",
   "execution_count": 14,
   "id": "7f74680a-bf95-45b8-8955-f8094865bfa3",
   "metadata": {
    "tags": []
   },
   "outputs": [],
   "source": [
    "query = \"Cuanto dura el mandato de un diputado\""
   ]
  },
  {
   "cell_type": "code",
   "execution_count": 15,
   "id": "c2a7580c-f373-4736-9a23-45752168e129",
   "metadata": {
    "tags": []
   },
   "outputs": [
    {
     "data": {
      "text/plain": [
       "[Document(page_content='los demás en proporción a la población.\\n\\n3.    La elección se verificará en cada circunscripción atendiendo a\\n\\ncriterios de representación proporcional.\\n\\n4.    El Congreso es elegido por cuatro años. El mandato de los\\n\\nDiputados termina cuatro años después de su elección o el día de la\\n\\ndisolución de la Cámara.\\n\\n5.    Son electores y elegibles todos los españoles que estén en\\n\\npleno uso de sus derechos políticos.\\n\\nLa ley reconocerá y el Estado facilitará el ejercicio del derecho de\\n\\nsufragio a los españoles que se encuentren fuera del territorio de\\n\\nEspaña.\\n\\nEl mandato\\n\\nparlamentario\\n\\nEl Congreso de\\n\\nlos Diputados\\n\\nSistema\\n\\nelectoral\\n\\nCuatro años de\\n\\nlegislatura\\n\\n23\\n\\n6.    Las elecciones tendrán lugar entre los treinta días y sesenta\\n\\ndías desde la terminación del mandato. El Congreso electo deberá\\n\\nser convocado dentro de los veinticinco días siguientes a la celebra-\\n\\nción de las elecciones.\\n\\nArtículo 69.\\n\\n1.    El Senado es la Cámara de representación territorial.', metadata={'source': './data/Constitucion_es.pdf'}),\n",
       " Document(page_content='dos Senadores.\\n\\n5.    Las Comunidades Autónomas designarán además un Senador\\n\\ny otro más por cada millón de habitantes de su respectivo territorio.\\n\\nLa designación corresponderá a la Asamblea legislativa o, en su\\n\\ndefecto, al órgano colegiado superior de la Comunidad Autónoma,\\n\\nde acuerdo con lo que establezcan los Estatutos, que asegurarán, en\\n\\ntodo caso, la adecuada representación proporcional.\\n\\n6.    El Senado es elegido por cuatro años. El mandato de los Sena-\\n\\ndores termina cuatro años después de su elección o el día de la diso-\\n\\nlución de la Cámara.\\n\\nArtículo 70.\\n\\n1.    La ley electoral determinará las causas de inelegibilidad e\\n\\nincompatibilidad de los Diputados y Senadores, que comprenderán\\n\\nen todo caso:\\n\\na)    A los componentes del Tribunal Constitucional.\\n\\nb)    A los altos cargos de la Administración del Estado que deter-\\n\\nmine la ley, con la excepción de los miembros del Gobierno.\\n\\nc)    Al Defensor del Pueblo.\\n\\nd)    A los Magistrados, Jueces y Fiscales en activo.', metadata={'source': './data/Constitucion_es.pdf'}),\n",
       " Document(page_content='Artículo 48. Para ser elegido diputado  se requiere ser ciudadano con derecho a\\n\\nsufragio,  tener  cumplidos  veintiún  años  de  edad,  haber  cursado  la  Enseñanza  Media  o\\n\\nequivalente  y  tener  residencia  en  la  región  a  que  pertenezca  el  distrito  electoral\\n\\ncorrespondiente durante un plazo no inferior a dos años, contando hacia atrás desde el\\n\\ndía de la elección.115\\n\\nArtículo 49. El Senado se compone de miembros elegidos en votación directa por\\n\\ncircunscripciones senatoriales, en consideración a las regiones del país, cada una de las\\n\\n111 Artículo sustituido por el artículo 1º, Nº 20 de la ley de Reforma Constitucional Nº 20.050.\\n\\n112 Véase la  ley Orgánica Constitucional del Congreso Nacional Nº 18.918.\\n\\n113 Véase el Título Final de la ley Nº 18.700 Orgánica Constitucional sobre Votaciones  Populares y Escrutinios.\\n\\n114 Inciso modificado por el artículo único Nº 23 de la ley de Reforma Constitucional Nº 18.825.', metadata={'source': './data/Constitucion_cl.pdf'}),\n",
       " Document(page_content='orden  público  en  el  interior  y  la  seguridad  externa  de  la  República,  de  acuerdo  con  la\\n\\nConstitución y las leyes.\\n\\nEl 21 de mayo de cada año, el Presidente de la República dará cuenta al país del\\n\\nestado administrativo y político de la Nación ante el Congreso Pleno.71\\n\\nArtículo  25.  Para  ser  elegido  Presidente  de  la  República  se  requiere  tener  la\\n\\nnacionalidad  chilena  de  acuerdo  a  lo  dispuesto  en  los  números  1º  ó  2º  del  artículo  10;\\n\\ntener  cumplidos  treinta  y  cinco  años  de  edad  y  poseer  las  demás  calidades  necesarias\\n\\npara ser ciudadano con derecho a sufragio.72\\n\\nEl  Presidente  de  la  República  durará  en  el  ejercicio  de  sus  funciones  por  el\\n\\ntérmino de cuatro años y no podrá ser reelegido para el período siguiente.73\\n\\nEl  Presidente  de  la  República  no  podrá  salir  del  territorio  nacional  por  más  de\\n\\ntreinta días ni en los últimos noventa días de su período, sin acuerdo del Senado.', metadata={'source': './data/Constitucion_cl.pdf'}),\n",
       " Document(page_content='Artículo 51. Se entenderá que los diputados tienen por el solo ministerio de la ley,\\n\\nsu  residencia  en  la  región  correspondiente,  mientras  se  encuentren  en  ejercicio  de  su\\n\\ncargo.\\n\\nLas elecciones de diputados y de senadores que corresponda elegir por votación\\n\\ndirecta  se  efectuarán  conjuntamente.  Los  parlamentarios  podrán  ser  reelegidos  en  sus\\n\\ncargos.\\n\\nLas vacantes de diputados y las de senadores se proveerán por el ciudadano que\\n\\nseñale  el  partido  político  al  que  pertenecía  el  parlamentario  que  produjo  la  vacante  al\\n\\nmomento de ser elegido.\\n\\nLos parlamentarios elegidos como independientes no serán reemplazados.\\n\\nLos  parlamentarios  elegidos  como  independientes  que  hubieren  postulado\\n\\nintegrando lista en conjunto con uno o más partidos políticos, serán reemplazados con el\\n\\nciudadano que señale el partido indicado por el respectivo parlamentario al momento de\\n\\npresentar su declaración de candidatura.', metadata={'source': './data/Constitucion_cl.pdf'})]"
      ]
     },
     "execution_count": 15,
     "metadata": {},
     "output_type": "execute_result"
    }
   ],
   "source": [
    "db.similarity_search(query, k=5)"
   ]
  },
  {
   "cell_type": "markdown",
   "id": "e1771c28-6be0-4500-a9c5-fdebe37e9b04",
   "metadata": {},
   "source": [
    "## Question answering"
   ]
  },
  {
   "cell_type": "markdown",
   "id": "0c157055-10a1-4e5f-9753-e5659ef9f86a",
   "metadata": {},
   "source": [
    "Let's put some ChatGPT..."
   ]
  },
  {
   "cell_type": "code",
   "execution_count": 16,
   "id": "10cd8def-91de-468b-be94-fe5264e865fe",
   "metadata": {
    "tags": []
   },
   "outputs": [],
   "source": [
    "model_name = 'gpt-3.5-turbo'\n",
    "\n",
    "qa = ConversationalRetrievalChain.from_llm(ChatOpenAI(model_name=model_name), \n",
    "                                           retriever, \n",
    "                                           return_source_documents=True)"
   ]
  },
  {
   "cell_type": "markdown",
   "id": "a4b7d63b-7f8f-4311-ad18-2486fe128082",
   "metadata": {},
   "source": [
    "let's keep track of the previous messages in the history"
   ]
  },
  {
   "cell_type": "code",
   "execution_count": 17,
   "id": "74250104-a3df-408e-aa13-7e18a637d627",
   "metadata": {
    "tags": []
   },
   "outputs": [
    {
     "name": "stderr",
     "output_type": "stream",
     "text": [
      "\u001b[34m\u001b[1mwandb\u001b[0m: \u001b[33mWARNING\u001b[0m Skipping model saving - unable to safely convert LangChain Model to dictionary due to: \n"
     ]
    }
   ],
   "source": [
    "chat_history = []\n",
    "result = qa({\"question\": query, \"chat_history\": chat_history})"
   ]
  },
  {
   "cell_type": "code",
   "execution_count": 18,
   "id": "7b727e2a-67a4-419c-9b3c-e8a86c372f96",
   "metadata": {
    "tags": []
   },
   "outputs": [
    {
     "data": {
      "text/plain": [
       "5"
      ]
     },
     "execution_count": 18,
     "metadata": {},
     "output_type": "execute_result"
    }
   ],
   "source": [
    "len(result[\"source_documents\"])"
   ]
  },
  {
   "cell_type": "code",
   "execution_count": 19,
   "id": "9f21a38d-f9c2-4cd1-aa4a-ed71e54a62ad",
   "metadata": {
    "tags": []
   },
   "outputs": [
    {
     "data": {
      "text/plain": [
       "'El mandato de un diputado en España dura cuatro años después de su elección o el día de la disolución de la Cámara. Esto se establece en el Artículo 68.6 de la Constitución española.'"
      ]
     },
     "execution_count": 19,
     "metadata": {},
     "output_type": "execute_result"
    }
   ],
   "source": [
    "result[\"answer\"]"
   ]
  },
  {
   "cell_type": "code",
   "execution_count": 20,
   "id": "fb6e5ce8-c2b6-41f9-8dbc-2c4638e38515",
   "metadata": {
    "tags": []
   },
   "outputs": [],
   "source": [
    "query = \"Como es la division territorial en Chile?\""
   ]
  },
  {
   "cell_type": "markdown",
   "id": "9337fa4a-befc-49bf-9827-b48918e32427",
   "metadata": {},
   "source": [
    "this is slow..."
   ]
  },
  {
   "cell_type": "code",
   "execution_count": 21,
   "id": "7cf256ee-79dc-4d35-877f-dcebc6519255",
   "metadata": {
    "tags": []
   },
   "outputs": [
    {
     "name": "stderr",
     "output_type": "stream",
     "text": [
      "\u001b[34m\u001b[1mwandb\u001b[0m: \u001b[33mWARNING\u001b[0m Skipping model saving - unable to safely convert LangChain Model to dictionary due to: \n"
     ]
    }
   ],
   "source": [
    "chat_history = []\n",
    "result = qa({\"question\": query, \"chat_history\": chat_history})"
   ]
  },
  {
   "cell_type": "code",
   "execution_count": 22,
   "id": "cda03d7c-ae90-4446-86b5-5666d945e5e9",
   "metadata": {
    "tags": []
   },
   "outputs": [
    {
     "data": {
      "text/plain": [
       "5"
      ]
     },
     "execution_count": 22,
     "metadata": {},
     "output_type": "execute_result"
    }
   ],
   "source": [
    "len(result[\"source_documents\"])"
   ]
  },
  {
   "cell_type": "code",
   "execution_count": 23,
   "id": "70de92ef-200a-4d2d-be5b-73893777120b",
   "metadata": {
    "tags": []
   },
   "outputs": [
    {
     "data": {
      "text/plain": [
       "'En Chile, el territorio se divide en regiones y estas a su vez en provincias, y las provincias en comunas. La creación, supresión y denominación de regiones, provincias y comunas; la modificación de sus límites, así como la fijación de las capitales de las regiones y provincias, serán materia de ley orgánica constitucional. Además, el gobierno regional estará constituido por el intendente y el consejo regional, y para el gobierno y administración interior del Estado se divide en regiones, provincias y comunas. La administración local de cada comuna o agrupación de comunas que determine la ley reside en una municipalidad, la que estará constituida por el alcalde y el concejo.'"
      ]
     },
     "execution_count": 23,
     "metadata": {},
     "output_type": "execute_result"
    }
   ],
   "source": [
    "result[\"answer\"]"
   ]
  },
  {
   "cell_type": "code",
   "execution_count": 24,
   "id": "d203f3b5-85c1-4c3c-aa28-033265d36066",
   "metadata": {
    "tags": []
   },
   "outputs": [
    {
     "name": "stderr",
     "output_type": "stream",
     "text": [
      "\u001b[34m\u001b[1mwandb\u001b[0m: Finished uploading data to W&B at https://wandb.ai/capecape/langchain_constituciones/runs/94qixipr\n"
     ]
    }
   ],
   "source": [
    "WandbTracer.finish()"
   ]
  }
 ],
 "metadata": {
  "kernelspec": {
   "display_name": "Python 3 (ipykernel)",
   "language": "python",
   "name": "python3"
  },
  "language_info": {
   "codemirror_mode": {
    "name": "ipython",
    "version": 3
   },
   "file_extension": ".py",
   "mimetype": "text/x-python",
   "name": "python",
   "nbconvert_exporter": "python",
   "pygments_lexer": "ipython3",
   "version": "3.10.9"
  }
 },
 "nbformat": 4,
 "nbformat_minor": 5
}
